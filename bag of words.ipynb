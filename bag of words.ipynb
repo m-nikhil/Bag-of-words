{
 "cells": [
  {
   "cell_type": "code",
   "execution_count": 1,
   "metadata": {
    "scrolled": true
   },
   "outputs": [],
   "source": [
    "require 'torch'\n",
    "require 'nn'\n",
    "require 'json'"
   ]
  },
  {
   "cell_type": "code",
   "execution_count": 2,
   "metadata": {},
   "outputs": [],
   "source": [
    "-- read from json file\n",
    "function readJSON(file)\n",
    "  local f = assert(io.open(file, 'r'))\n",
    "  local tJSON = f:read('*all')\n",
    "  f:close()\n",
    "  return json.decode(tJSON)\n",
    "end"
   ]
  },
  {
   "cell_type": "code",
   "execution_count": 3,
   "metadata": {},
   "outputs": [
    {
     "data": {
      "text/plain": [
       "{\n",
       "  1 : this is sentence one\n",
       "  2 : sentence two\n",
       "  3 : final sentence, sentence three\n",
       "}\n"
      ]
     },
     "execution_count": 3,
     "metadata": {},
     "output_type": "execute_result"
    }
   ],
   "source": [
    "content = readJSON(\"data.json\")\n",
    "-- the sample data has 3 sentences\n",
    "data = content['data']\n",
    "print(data)"
   ]
  },
  {
   "cell_type": "code",
   "execution_count": 4,
   "metadata": {},
   "outputs": [],
   "source": [
    "-- creating look-up table for indexing\n",
    "function createLookupTable(data)\n",
    "    word_to_index = {}\n",
    "    count = 0\n",
    "    for i,sentence in ipairs(data) do\n",
    "        for word in sentence:gmatch(\"%w+\") do\n",
    "            if word_to_index[word] == nil then\n",
    "               word_to_index[word] = count\n",
    "               count = count + 1\n",
    "            end\n",
    "        end\n",
    "    end\n",
    "    return word_to_index\n",
    "end"
   ]
  },
  {
   "cell_type": "code",
   "execution_count": 5,
   "metadata": {},
   "outputs": [
    {
     "data": {
      "text/plain": [
       "{\n",
       "  this : 0\n",
       "  final : 5\n",
       "  is : 1\n"
      ]
     },
     "execution_count": 5,
     "metadata": {},
     "output_type": "execute_result"
    },
    {
     "data": {
      "text/plain": [
       "  two : 4\n",
       "  three : 6\n",
       "  one : 3\n",
       "  sentence : 2\n",
       "}\n"
      ]
     },
     "execution_count": 5,
     "metadata": {},
     "output_type": "execute_result"
    }
   ],
   "source": [
    "word_to_index = createLookupTable(data)\n",
    "print(word_to_index)"
   ]
  },
  {
   "cell_type": "code",
   "execution_count": 6,
   "metadata": {},
   "outputs": [],
   "source": [
    "function index(sentence,lookupTable)\n",
    "    vector = {}\n",
    "    for word in sentence:gmatch(\"%w+\") do\n",
    "        table.insert(vector,lookupTable[word])\n",
    "    end\n",
    "    return vector\n",
    "end"
   ]
  },
  {
   "cell_type": "code",
   "execution_count": 7,
   "metadata": {},
   "outputs": [
    {
     "data": {
      "text/plain": [
       "{\n",
       "  1 : 5\n"
      ]
     },
     "execution_count": 7,
     "metadata": {},
     "output_type": "execute_result"
    },
    {
     "data": {
      "text/plain": [
       "  2 : 2\n",
       "  3 : 2\n",
       "  4 : 6\n",
       "}\n"
      ]
     },
     "execution_count": 7,
     "metadata": {},
     "output_type": "execute_result"
    }
   ],
   "source": [
    "index(data[3],word_to_index)  --creating index for 3rd sentence"
   ]
  },
  {
   "cell_type": "code",
   "execution_count": 8,
   "metadata": {},
   "outputs": [],
   "source": [
    "-- bag of words - one hot encoding\n",
    "function onehot(sentence,lookupTable)\n",
    "    table_size = 0\n",
    "    for _ in pairs(lookupTable) do table_size = table_size + 1 end\n",
    "    x = torch.LongTensor(1,table_size):zero()\n",
    "    s = x:storage()\n",
    "    for word in sentence:gmatch(\"%w+\") do\n",
    "        s[lookupTable[word]] = 1\n",
    "    end\n",
    "    return x\n",
    "end"
   ]
  },
  {
   "cell_type": "code",
   "execution_count": 9,
   "metadata": {},
   "outputs": [
    {
     "data": {
      "text/plain": [
       " 0  1  0  0  1  1  0\n",
       "[torch.LongTensor of size 1x7]\n",
       "\n"
      ]
     },
     "execution_count": 9,
     "metadata": {},
     "output_type": "execute_result"
    }
   ],
   "source": [
    "onehot(data[3],word_to_index)    --creating one hot for 3rd sentence"
   ]
  },
  {
   "cell_type": "code",
   "execution_count": 10,
   "metadata": {},
   "outputs": [],
   "source": [
    "-- bag of words - count vectorization\n",
    "function count(sentence,lookupTable)\n",
    "    table_size = 0\n",
    "    for _ in pairs(lookupTable) do table_size = table_size + 1 end\n",
    "    x = torch.LongTensor(1,table_size):zero()\n",
    "    s = x:storage()\n",
    "    for word in sentence:gmatch(\"%w+\") do\n",
    "        s[lookupTable[word]] =  s[lookupTable[word]] + 1\n",
    "    end\n",
    "    return x\n",
    "end"
   ]
  },
  {
   "cell_type": "code",
   "execution_count": 11,
   "metadata": {},
   "outputs": [
    {
     "data": {
      "text/plain": [
       " 0  2  0  0  1  1  0\n",
       "[torch.LongTensor of size 1x7]\n",
       "\n"
      ]
     },
     "execution_count": 11,
     "metadata": {},
     "output_type": "execute_result"
    }
   ],
   "source": [
    "count(data[3],word_to_index)     --creating count vector for 3rd sentence"
   ]
  }
 ],
 "metadata": {
  "kernelspec": {
   "display_name": "iTorch",
   "language": "lua",
   "name": "itorch"
  },
  "language_info": {
   "name": "lua",
   "version": "5.1"
  }
 },
 "nbformat": 4,
 "nbformat_minor": 2
}
